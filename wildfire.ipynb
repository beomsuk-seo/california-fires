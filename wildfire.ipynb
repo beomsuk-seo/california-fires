{
 "cells": [
  {
   "cell_type": "code",
   "execution_count": 24,
   "metadata": {},
   "outputs": [],
   "source": [
    "#!pip install pandas\n",
    "#!pip install kaggle\n",
    "\n",
    "# zipfile, sys, and importlib comes installed with base version of Python"
   ]
  },
  {
   "cell_type": "markdown",
   "metadata": {},
   "source": [
    "Kaggle API Documentation: https://www.kaggle.com/docs/api"
   ]
  },
  {
   "cell_type": "code",
   "execution_count": 25,
   "metadata": {},
   "outputs": [
    {
     "name": "stdout",
     "output_type": "stream",
     "text": [
      "Python Version: 3.12.0 (tags/v3.12.0:0fb18b0, Oct  2 2023, 13:03:39) [MSC v.1935 64 bit (AMD64)]\n",
      "Kaggle Module Version:  1.6.17\n",
      "Kaggle Module Version:  2.1.3\n"
     ]
    }
   ],
   "source": [
    "# Modules + Versions\n",
    "\n",
    "from importlib.metadata import version #Check Module Versions\n",
    "import sys #Check Python Version\n",
    "\n",
    "import kaggle #dataset download (API)\n",
    "import zipfile #unzip dataset \n",
    "import pandas as pd\n",
    "\n",
    "print(\"Python Version:\", sys.version)\n",
    "print(\"Kaggle Module Version: \", version('kaggle'))\n",
    "print(\"Kaggle Module Version: \", version('pandas'))"
   ]
  },
  {
   "cell_type": "code",
   "execution_count": 26,
   "metadata": {},
   "outputs": [
    {
     "name": "stdout",
     "output_type": "stream",
     "text": [
      "Dataset URL: https://www.kaggle.com/datasets/ananthu017/california-wildfire-incidents-20132020\n",
      "License(s): CC0-1.0\n",
      "california-wildfire-incidents-20132020.zip: Skipping, found more recently modified local copy (use --force to force download)\n"
     ]
    }
   ],
   "source": [
    "# download dataset (Kaggle API)\n",
    "!kaggle datasets download -d ananthu017/california-wildfire-incidents-20132020"
   ]
  },
  {
   "cell_type": "code",
   "execution_count": 27,
   "metadata": {},
   "outputs": [],
   "source": [
    "# extract zip file\n",
    "zip_name = 'california-wildfire-incidents-20132020.zip'\n",
    "with zipfile.ZipFile(zip_name, 'r') as file:\n",
    "    file.extractall('data')"
   ]
  },
  {
   "cell_type": "code",
   "execution_count": 28,
   "metadata": {},
   "outputs": [],
   "source": [
    "# read csv data to pandas\n",
    "fires = pd.read_csv('data/California_Fire_Incidents.csv')"
   ]
  },
  {
   "cell_type": "code",
   "execution_count": 29,
   "metadata": {},
   "outputs": [
    {
     "data": {
      "text/html": [
       "<div>\n",
       "<style scoped>\n",
       "    .dataframe tbody tr th:only-of-type {\n",
       "        vertical-align: middle;\n",
       "    }\n",
       "\n",
       "    .dataframe tbody tr th {\n",
       "        vertical-align: top;\n",
       "    }\n",
       "\n",
       "    .dataframe thead th {\n",
       "        text-align: right;\n",
       "    }\n",
       "</style>\n",
       "<table border=\"1\" class=\"dataframe\">\n",
       "  <thead>\n",
       "    <tr style=\"text-align: right;\">\n",
       "      <th></th>\n",
       "      <th>Name</th>\n",
       "      <th>AcresBurned</th>\n",
       "      <th>Started</th>\n",
       "      <th>Counties</th>\n",
       "    </tr>\n",
       "  </thead>\n",
       "  <tbody>\n",
       "    <tr>\n",
       "      <th>0</th>\n",
       "      <td>Rim Fire</td>\n",
       "      <td>257314.0</td>\n",
       "      <td>2013-08-17T15:25:00Z</td>\n",
       "      <td>Tuolumne</td>\n",
       "    </tr>\n",
       "    <tr>\n",
       "      <th>1</th>\n",
       "      <td>Powerhouse Fire</td>\n",
       "      <td>30274.0</td>\n",
       "      <td>2013-05-30T15:28:00Z</td>\n",
       "      <td>Los Angeles</td>\n",
       "    </tr>\n",
       "    <tr>\n",
       "      <th>2</th>\n",
       "      <td>Mountain Fire</td>\n",
       "      <td>27531.0</td>\n",
       "      <td>2013-07-15T13:43:00Z</td>\n",
       "      <td>Riverside</td>\n",
       "    </tr>\n",
       "    <tr>\n",
       "      <th>3</th>\n",
       "      <td>American Fire</td>\n",
       "      <td>27440.0</td>\n",
       "      <td>2013-08-10T16:30:00Z</td>\n",
       "      <td>Placer</td>\n",
       "    </tr>\n",
       "    <tr>\n",
       "      <th>4</th>\n",
       "      <td>Springs Fire</td>\n",
       "      <td>24251.0</td>\n",
       "      <td>2013-05-02T07:01:00Z</td>\n",
       "      <td>Ventura</td>\n",
       "    </tr>\n",
       "  </tbody>\n",
       "</table>\n",
       "</div>"
      ],
      "text/plain": [
       "              Name  AcresBurned               Started     Counties\n",
       "0         Rim Fire     257314.0  2013-08-17T15:25:00Z     Tuolumne\n",
       "1  Powerhouse Fire      30274.0  2013-05-30T15:28:00Z  Los Angeles\n",
       "2    Mountain Fire      27531.0  2013-07-15T13:43:00Z    Riverside\n",
       "3    American Fire      27440.0  2013-08-10T16:30:00Z       Placer\n",
       "4     Springs Fire      24251.0  2013-05-02T07:01:00Z      Ventura"
      ]
     },
     "execution_count": 29,
     "metadata": {},
     "output_type": "execute_result"
    }
   ],
   "source": [
    "cols = ['Name', 'AcresBurned', 'Started', 'Counties']\n",
    "fires = fires[cols]\n",
    "fires.head()"
   ]
  },
  {
   "cell_type": "code",
   "execution_count": 30,
   "metadata": {},
   "outputs": [
    {
     "data": {
      "text/plain": [
       "59"
      ]
     },
     "execution_count": 30,
     "metadata": {},
     "output_type": "execute_result"
    }
   ],
   "source": [
    "len(fires.Counties.unique()) # across 59 counties total"
   ]
  },
  {
   "cell_type": "code",
   "execution_count": 31,
   "metadata": {},
   "outputs": [],
   "source": [
    "#rename columns\n",
    "new_cols = {\n",
    "    'Started': 'Date',\n",
    "    'Counties': 'County'\n",
    "}\n",
    "fires.rename(new_cols, axis = 1, inplace = True)"
   ]
  },
  {
   "cell_type": "code",
   "execution_count": 32,
   "metadata": {},
   "outputs": [
    {
     "name": "stdout",
     "output_type": "stream",
     "text": [
      "<class 'pandas.core.frame.DataFrame'>\n",
      "RangeIndex: 1636 entries, 0 to 1635\n",
      "Data columns (total 4 columns):\n",
      " #   Column       Non-Null Count  Dtype  \n",
      "---  ------       --------------  -----  \n",
      " 0   Name         1636 non-null   object \n",
      " 1   AcresBurned  1633 non-null   float64\n",
      " 2   Date         1636 non-null   object \n",
      " 3   County       1636 non-null   object \n",
      "dtypes: float64(1), object(3)\n",
      "memory usage: 51.3+ KB\n"
     ]
    }
   ],
   "source": [
    "#checking data types\n",
    "fires.info()"
   ]
  },
  {
   "cell_type": "code",
   "execution_count": 33,
   "metadata": {},
   "outputs": [],
   "source": [
    "# Drop null columns since there are only 3\n",
    "fires.dropna(inplace = True)"
   ]
  },
  {
   "cell_type": "code",
   "execution_count": 34,
   "metadata": {},
   "outputs": [],
   "source": [
    "# format date to be date format\n",
    "fires['Date'] = pd.to_datetime(fires['Date'].str.split('T').str[0])"
   ]
  },
  {
   "cell_type": "code",
   "execution_count": 35,
   "metadata": {},
   "outputs": [
    {
     "data": {
      "text/html": [
       "<div>\n",
       "<style scoped>\n",
       "    .dataframe tbody tr th:only-of-type {\n",
       "        vertical-align: middle;\n",
       "    }\n",
       "\n",
       "    .dataframe tbody tr th {\n",
       "        vertical-align: top;\n",
       "    }\n",
       "\n",
       "    .dataframe thead th {\n",
       "        text-align: right;\n",
       "    }\n",
       "</style>\n",
       "<table border=\"1\" class=\"dataframe\">\n",
       "  <thead>\n",
       "    <tr style=\"text-align: right;\">\n",
       "      <th></th>\n",
       "      <th>Name</th>\n",
       "      <th>AcresBurned</th>\n",
       "      <th>Date</th>\n",
       "      <th>County</th>\n",
       "    </tr>\n",
       "  </thead>\n",
       "  <tbody>\n",
       "    <tr>\n",
       "      <th>0</th>\n",
       "      <td>Rim Fire</td>\n",
       "      <td>257314.0</td>\n",
       "      <td>2013-08-17</td>\n",
       "      <td>Tuolumne</td>\n",
       "    </tr>\n",
       "    <tr>\n",
       "      <th>1</th>\n",
       "      <td>Powerhouse Fire</td>\n",
       "      <td>30274.0</td>\n",
       "      <td>2013-05-30</td>\n",
       "      <td>Los Angeles</td>\n",
       "    </tr>\n",
       "    <tr>\n",
       "      <th>2</th>\n",
       "      <td>Mountain Fire</td>\n",
       "      <td>27531.0</td>\n",
       "      <td>2013-07-15</td>\n",
       "      <td>Riverside</td>\n",
       "    </tr>\n",
       "    <tr>\n",
       "      <th>3</th>\n",
       "      <td>American Fire</td>\n",
       "      <td>27440.0</td>\n",
       "      <td>2013-08-10</td>\n",
       "      <td>Placer</td>\n",
       "    </tr>\n",
       "    <tr>\n",
       "      <th>4</th>\n",
       "      <td>Springs Fire</td>\n",
       "      <td>24251.0</td>\n",
       "      <td>2013-05-02</td>\n",
       "      <td>Ventura</td>\n",
       "    </tr>\n",
       "  </tbody>\n",
       "</table>\n",
       "</div>"
      ],
      "text/plain": [
       "              Name  AcresBurned       Date       County\n",
       "0         Rim Fire     257314.0 2013-08-17     Tuolumne\n",
       "1  Powerhouse Fire      30274.0 2013-05-30  Los Angeles\n",
       "2    Mountain Fire      27531.0 2013-07-15    Riverside\n",
       "3    American Fire      27440.0 2013-08-10       Placer\n",
       "4     Springs Fire      24251.0 2013-05-02      Ventura"
      ]
     },
     "execution_count": 35,
     "metadata": {},
     "output_type": "execute_result"
    }
   ],
   "source": [
    "fires.head() #ready to transfer to Tableau"
   ]
  },
  {
   "cell_type": "code",
   "execution_count": 36,
   "metadata": {},
   "outputs": [],
   "source": [
    "# export data\n",
    "fires.to_csv('data/ca_fires.csv') "
   ]
  },
  {
   "cell_type": "code",
   "execution_count": 37,
   "metadata": {},
   "outputs": [
    {
     "data": {
      "text/html": [
       "<div>\n",
       "<style scoped>\n",
       "    .dataframe tbody tr th:only-of-type {\n",
       "        vertical-align: middle;\n",
       "    }\n",
       "\n",
       "    .dataframe tbody tr th {\n",
       "        vertical-align: top;\n",
       "    }\n",
       "\n",
       "    .dataframe thead th {\n",
       "        text-align: right;\n",
       "    }\n",
       "</style>\n",
       "<table border=\"1\" class=\"dataframe\">\n",
       "  <thead>\n",
       "    <tr style=\"text-align: right;\">\n",
       "      <th></th>\n",
       "      <th>Name</th>\n",
       "      <th>AcresBurned</th>\n",
       "      <th>Date</th>\n",
       "      <th>County</th>\n",
       "    </tr>\n",
       "  </thead>\n",
       "  <tbody>\n",
       "    <tr>\n",
       "      <th>638</th>\n",
       "      <td>Pocket Fire (Central LNU Complex)</td>\n",
       "      <td>17357.0</td>\n",
       "      <td>2017-10-09</td>\n",
       "      <td>Sonoma</td>\n",
       "    </tr>\n",
       "    <tr>\n",
       "      <th>645</th>\n",
       "      <td>Canyon 2 Fire</td>\n",
       "      <td>9217.0</td>\n",
       "      <td>2017-10-09</td>\n",
       "      <td>Orange</td>\n",
       "    </tr>\n",
       "    <tr>\n",
       "      <th>653</th>\n",
       "      <td>LaPorte Fire (Wind Complex)</td>\n",
       "      <td>6151.0</td>\n",
       "      <td>2017-10-09</td>\n",
       "      <td>Butte</td>\n",
       "    </tr>\n",
       "    <tr>\n",
       "      <th>674</th>\n",
       "      <td>Adobe Fire (Central LNU Complex)</td>\n",
       "      <td>1868.0</td>\n",
       "      <td>2017-10-09</td>\n",
       "      <td>Sonoma</td>\n",
       "    </tr>\n",
       "    <tr>\n",
       "      <th>679</th>\n",
       "      <td>37 Fire</td>\n",
       "      <td>1660.0</td>\n",
       "      <td>2017-10-09</td>\n",
       "      <td>Sonoma</td>\n",
       "    </tr>\n",
       "    <tr>\n",
       "      <th>704</th>\n",
       "      <td>Lobo Fire (Wind Complex)</td>\n",
       "      <td>821.0</td>\n",
       "      <td>2017-10-09</td>\n",
       "      <td>Nevada</td>\n",
       "    </tr>\n",
       "    <tr>\n",
       "      <th>774</th>\n",
       "      <td>Honey Fire</td>\n",
       "      <td>150.0</td>\n",
       "      <td>2017-10-09</td>\n",
       "      <td>Butte</td>\n",
       "    </tr>\n",
       "    <tr>\n",
       "      <th>787</th>\n",
       "      <td>Point Fire</td>\n",
       "      <td>130.0</td>\n",
       "      <td>2017-10-09</td>\n",
       "      <td>Calaveras</td>\n",
       "    </tr>\n",
       "    <tr>\n",
       "      <th>833</th>\n",
       "      <td>McCourtney Fire (Wind Complex)</td>\n",
       "      <td>76.0</td>\n",
       "      <td>2017-10-09</td>\n",
       "      <td>Nevada</td>\n",
       "    </tr>\n",
       "    <tr>\n",
       "      <th>888</th>\n",
       "      <td>Pozo Fire</td>\n",
       "      <td>45.0</td>\n",
       "      <td>2017-10-09</td>\n",
       "      <td>San Luis Obispo</td>\n",
       "    </tr>\n",
       "    <tr>\n",
       "      <th>1041</th>\n",
       "      <td>Pressley Fire (Central LNU Complex)</td>\n",
       "      <td>0.0</td>\n",
       "      <td>2017-10-09</td>\n",
       "      <td>Sonoma</td>\n",
       "    </tr>\n",
       "  </tbody>\n",
       "</table>\n",
       "</div>"
      ],
      "text/plain": [
       "                                     Name  AcresBurned       Date  \\\n",
       "638     Pocket Fire (Central LNU Complex)      17357.0 2017-10-09   \n",
       "645                         Canyon 2 Fire       9217.0 2017-10-09   \n",
       "653           LaPorte Fire (Wind Complex)       6151.0 2017-10-09   \n",
       "674      Adobe Fire (Central LNU Complex)       1868.0 2017-10-09   \n",
       "679                               37 Fire       1660.0 2017-10-09   \n",
       "704              Lobo Fire (Wind Complex)        821.0 2017-10-09   \n",
       "774                            Honey Fire        150.0 2017-10-09   \n",
       "787                            Point Fire        130.0 2017-10-09   \n",
       "833        McCourtney Fire (Wind Complex)         76.0 2017-10-09   \n",
       "888                             Pozo Fire         45.0 2017-10-09   \n",
       "1041  Pressley Fire (Central LNU Complex)          0.0 2017-10-09   \n",
       "\n",
       "               County  \n",
       "638            Sonoma  \n",
       "645            Orange  \n",
       "653             Butte  \n",
       "674            Sonoma  \n",
       "679            Sonoma  \n",
       "704            Nevada  \n",
       "774             Butte  \n",
       "787         Calaveras  \n",
       "833            Nevada  \n",
       "888   San Luis Obispo  \n",
       "1041           Sonoma  "
      ]
     },
     "execution_count": 37,
     "metadata": {},
     "output_type": "execute_result"
    }
   ],
   "source": [
    "fires[fires['Date'] == '2017-10-09']"
   ]
  },
  {
   "cell_type": "code",
   "execution_count": null,
   "metadata": {},
   "outputs": [],
   "source": []
  }
 ],
 "metadata": {
  "kernelspec": {
   "display_name": "Python 3",
   "language": "python",
   "name": "python3"
  },
  "language_info": {
   "codemirror_mode": {
    "name": "ipython",
    "version": 3
   },
   "file_extension": ".py",
   "mimetype": "text/x-python",
   "name": "python",
   "nbconvert_exporter": "python",
   "pygments_lexer": "ipython3",
   "version": "3.12.0"
  }
 },
 "nbformat": 4,
 "nbformat_minor": 2
}
